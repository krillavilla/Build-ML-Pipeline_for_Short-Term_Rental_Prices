{
 "cells": [
  {
   "cell_type": "code",
   "execution_count": 1,
   "id": "3881d89b-1c64-4f0c-bee2-bb47c66e8ca3",
   "metadata": {},
   "outputs": [
    {
     "name": "stderr",
     "output_type": "stream",
     "text": [
      "\u001b[34m\u001b[1mwandb\u001b[0m: Currently logged in as: \u001b[33mkrillavilla\u001b[0m (\u001b[33mkrillavilla-arizona-state-university\u001b[0m). Use \u001b[1m`wandb login --relogin`\u001b[0m to force relogin\n"
     ]
    },
    {
     "data": {
      "text/html": [
       "wandb version 0.19.8 is available!  To upgrade, please run:\n",
       " $ pip install wandb --upgrade"
      ],
      "text/plain": [
       "<IPython.core.display.HTML object>"
      ]
     },
     "metadata": {},
     "output_type": "display_data"
    },
    {
     "data": {
      "text/html": [
       "Tracking run with wandb version 0.16.0"
      ],
      "text/plain": [
       "<IPython.core.display.HTML object>"
      ]
     },
     "metadata": {},
     "output_type": "display_data"
    },
    {
     "data": {
      "text/html": [
       "Run data is saved locally in <code>/home/krillavilla/Documents/MLDevOps_Program/Build-ML-Pipeline_for_Short-Term_Rental_Prices/src/eda/wandb/run-20250317_234222-oookhbll</code>"
      ],
      "text/plain": [
       "<IPython.core.display.HTML object>"
      ]
     },
     "metadata": {},
     "output_type": "display_data"
    },
    {
     "data": {
      "text/html": [
       "Syncing run <strong><a href='https://wandb.ai/krillavilla-arizona-state-university/nyc_airbnb/runs/oookhbll' target=\"_blank\">balmy-bird-11</a></strong> to <a href='https://wandb.ai/krillavilla-arizona-state-university/nyc_airbnb' target=\"_blank\">Weights & Biases</a> (<a href='https://wandb.me/run' target=\"_blank\">docs</a>)<br/>"
      ],
      "text/plain": [
       "<IPython.core.display.HTML object>"
      ]
     },
     "metadata": {},
     "output_type": "display_data"
    },
    {
     "data": {
      "text/html": [
       " View project at <a href='https://wandb.ai/krillavilla-arizona-state-university/nyc_airbnb' target=\"_blank\">https://wandb.ai/krillavilla-arizona-state-university/nyc_airbnb</a>"
      ],
      "text/plain": [
       "<IPython.core.display.HTML object>"
      ]
     },
     "metadata": {},
     "output_type": "display_data"
    },
    {
     "data": {
      "text/html": [
       " View run at <a href='https://wandb.ai/krillavilla-arizona-state-university/nyc_airbnb/runs/oookhbll' target=\"_blank\">https://wandb.ai/krillavilla-arizona-state-university/nyc_airbnb/runs/oookhbll</a>"
      ],
      "text/plain": [
       "<IPython.core.display.HTML object>"
      ]
     },
     "metadata": {},
     "output_type": "display_data"
    }
   ],
   "source": [
    "import wandb\n",
    "import pandas as pd\n",
    "\n",
    "run = wandb.init(project=\"nyc_airbnb\", group=\"eda\", save_code=True)\n",
    "local_path = wandb.use_artifact(\"sample.csv:latest\").file()\n",
    "df = pd.read_csv(local_path)"
   ]
  },
  {
   "cell_type": "code",
   "execution_count": 2,
   "id": "ef75fc79-b6e7-42ac-969e-323bed5cbeff",
   "metadata": {},
   "outputs": [
    {
     "name": "stdout",
     "output_type": "stream",
     "text": [
      "ydata-profiling           0.0.dev0\n"
     ]
    }
   ],
   "source": [
    "!pip list | grep profiling"
   ]
  },
  {
   "cell_type": "code",
   "execution_count": 3,
   "id": "6a7762db-0ba9-4497-b2a4-9bd70f5de422",
   "metadata": {},
   "outputs": [
    {
     "name": "stdout",
     "output_type": "stream",
     "text": [
      "Requirement already satisfied: ydata-profiling in /home/krillavilla/anaconda3/envs/mlflow-360b24b9ab36dc7c3d5442c51a92dbe97822c3dc/lib/python3.10/site-packages (0.0.dev0)\n",
      "Requirement already satisfied: scipy<1.12,>=1.4.1 in /home/krillavilla/anaconda3/envs/mlflow-360b24b9ab36dc7c3d5442c51a92dbe97822c3dc/lib/python3.10/site-packages (from ydata-profiling) (1.11.4)\n",
      "Requirement already satisfied: pandas!=1.4.0,<2.1,>1.1 in /home/krillavilla/anaconda3/envs/mlflow-360b24b9ab36dc7c3d5442c51a92dbe97822c3dc/lib/python3.10/site-packages (from ydata-profiling) (2.0.3)\n",
      "Requirement already satisfied: matplotlib<=3.7.3,>=3.2 in /home/krillavilla/anaconda3/envs/mlflow-360b24b9ab36dc7c3d5442c51a92dbe97822c3dc/lib/python3.10/site-packages (from ydata-profiling) (3.7.3)\n",
      "Requirement already satisfied: pydantic>=2 in /home/krillavilla/anaconda3/envs/mlflow-360b24b9ab36dc7c3d5442c51a92dbe97822c3dc/lib/python3.10/site-packages (from ydata-profiling) (2.10.6)\n",
      "Requirement already satisfied: PyYAML<6.1,>=5.0.0 in /home/krillavilla/anaconda3/envs/mlflow-360b24b9ab36dc7c3d5442c51a92dbe97822c3dc/lib/python3.10/site-packages (from ydata-profiling) (6.0.2)\n",
      "Requirement already satisfied: jinja2<3.2,>=2.11.1 in /home/krillavilla/anaconda3/envs/mlflow-360b24b9ab36dc7c3d5442c51a92dbe97822c3dc/lib/python3.10/site-packages (from ydata-profiling) (3.1.6)\n",
      "Requirement already satisfied: visions==0.7.5 in /home/krillavilla/anaconda3/envs/mlflow-360b24b9ab36dc7c3d5442c51a92dbe97822c3dc/lib/python3.10/site-packages (from visions[type_image_path]==0.7.5->ydata-profiling) (0.7.5)\n",
      "Requirement already satisfied: numpy<1.26,>=1.16.0 in /home/krillavilla/anaconda3/envs/mlflow-360b24b9ab36dc7c3d5442c51a92dbe97822c3dc/lib/python3.10/site-packages (from ydata-profiling) (1.25.2)\n",
      "Requirement already satisfied: htmlmin==0.1.12 in /home/krillavilla/anaconda3/envs/mlflow-360b24b9ab36dc7c3d5442c51a92dbe97822c3dc/lib/python3.10/site-packages (from ydata-profiling) (0.1.12)\n",
      "Requirement already satisfied: phik<0.13,>=0.11.1 in /home/krillavilla/anaconda3/envs/mlflow-360b24b9ab36dc7c3d5442c51a92dbe97822c3dc/lib/python3.10/site-packages (from ydata-profiling) (0.12.3)\n",
      "Requirement already satisfied: requests<3,>=2.24.0 in /home/krillavilla/anaconda3/envs/mlflow-360b24b9ab36dc7c3d5442c51a92dbe97822c3dc/lib/python3.10/site-packages (from ydata-profiling) (2.32.3)\n",
      "Requirement already satisfied: tqdm<5,>=4.48.2 in /home/krillavilla/anaconda3/envs/mlflow-360b24b9ab36dc7c3d5442c51a92dbe97822c3dc/lib/python3.10/site-packages (from ydata-profiling) (4.67.1)\n",
      "Requirement already satisfied: seaborn<0.13,>=0.10.1 in /home/krillavilla/anaconda3/envs/mlflow-360b24b9ab36dc7c3d5442c51a92dbe97822c3dc/lib/python3.10/site-packages (from ydata-profiling) (0.12.2)\n",
      "Requirement already satisfied: multimethod<2,>=1.4 in /home/krillavilla/anaconda3/envs/mlflow-360b24b9ab36dc7c3d5442c51a92dbe97822c3dc/lib/python3.10/site-packages (from ydata-profiling) (1.12)\n",
      "Requirement already satisfied: statsmodels<1,>=0.13.2 in /home/krillavilla/anaconda3/envs/mlflow-360b24b9ab36dc7c3d5442c51a92dbe97822c3dc/lib/python3.10/site-packages (from ydata-profiling) (0.14.4)\n",
      "Requirement already satisfied: typeguard<5,>=4.1.2 in /home/krillavilla/anaconda3/envs/mlflow-360b24b9ab36dc7c3d5442c51a92dbe97822c3dc/lib/python3.10/site-packages (from ydata-profiling) (4.4.2)\n",
      "Requirement already satisfied: imagehash==4.3.1 in /home/krillavilla/anaconda3/envs/mlflow-360b24b9ab36dc7c3d5442c51a92dbe97822c3dc/lib/python3.10/site-packages (from ydata-profiling) (4.3.1)\n",
      "Requirement already satisfied: wordcloud>=1.9.1 in /home/krillavilla/anaconda3/envs/mlflow-360b24b9ab36dc7c3d5442c51a92dbe97822c3dc/lib/python3.10/site-packages (from ydata-profiling) (1.9.4)\n",
      "Requirement already satisfied: dacite>=1.8 in /home/krillavilla/anaconda3/envs/mlflow-360b24b9ab36dc7c3d5442c51a92dbe97822c3dc/lib/python3.10/site-packages (from ydata-profiling) (1.9.1)\n",
      "Requirement already satisfied: numba<0.59.0,>=0.56.0 in /home/krillavilla/anaconda3/envs/mlflow-360b24b9ab36dc7c3d5442c51a92dbe97822c3dc/lib/python3.10/site-packages (from ydata-profiling) (0.58.1)\n",
      "Requirement already satisfied: pillow in /home/krillavilla/anaconda3/envs/mlflow-360b24b9ab36dc7c3d5442c51a92dbe97822c3dc/lib/python3.10/site-packages (from imagehash==4.3.1->ydata-profiling) (11.1.0)\n",
      "Requirement already satisfied: PyWavelets in /home/krillavilla/anaconda3/envs/mlflow-360b24b9ab36dc7c3d5442c51a92dbe97822c3dc/lib/python3.10/site-packages (from imagehash==4.3.1->ydata-profiling) (1.8.0)\n",
      "Requirement already satisfied: attrs>=19.3.0 in /home/krillavilla/anaconda3/envs/mlflow-360b24b9ab36dc7c3d5442c51a92dbe97822c3dc/lib/python3.10/site-packages (from visions==0.7.5->visions[type_image_path]==0.7.5->ydata-profiling) (25.3.0)\n",
      "Requirement already satisfied: networkx>=2.4 in /home/krillavilla/anaconda3/envs/mlflow-360b24b9ab36dc7c3d5442c51a92dbe97822c3dc/lib/python3.10/site-packages (from visions==0.7.5->visions[type_image_path]==0.7.5->ydata-profiling) (3.4.2)\n",
      "Requirement already satisfied: tangled-up-in-unicode>=0.0.4 in /home/krillavilla/anaconda3/envs/mlflow-360b24b9ab36dc7c3d5442c51a92dbe97822c3dc/lib/python3.10/site-packages (from visions==0.7.5->visions[type_image_path]==0.7.5->ydata-profiling) (0.2.0)\n",
      "\u001b[33mWARNING: visions 0.7.5 does not provide the extra 'type-image-path'\u001b[0m\u001b[33m\n",
      "\u001b[0mRequirement already satisfied: MarkupSafe>=2.0 in /home/krillavilla/anaconda3/envs/mlflow-360b24b9ab36dc7c3d5442c51a92dbe97822c3dc/lib/python3.10/site-packages (from jinja2<3.2,>=2.11.1->ydata-profiling) (3.0.2)\n",
      "Requirement already satisfied: contourpy>=1.0.1 in /home/krillavilla/anaconda3/envs/mlflow-360b24b9ab36dc7c3d5442c51a92dbe97822c3dc/lib/python3.10/site-packages (from matplotlib<=3.7.3,>=3.2->ydata-profiling) (1.3.1)\n",
      "Requirement already satisfied: cycler>=0.10 in /home/krillavilla/anaconda3/envs/mlflow-360b24b9ab36dc7c3d5442c51a92dbe97822c3dc/lib/python3.10/site-packages (from matplotlib<=3.7.3,>=3.2->ydata-profiling) (0.12.1)\n",
      "Requirement already satisfied: fonttools>=4.22.0 in /home/krillavilla/anaconda3/envs/mlflow-360b24b9ab36dc7c3d5442c51a92dbe97822c3dc/lib/python3.10/site-packages (from matplotlib<=3.7.3,>=3.2->ydata-profiling) (4.56.0)\n",
      "Requirement already satisfied: kiwisolver>=1.0.1 in /home/krillavilla/anaconda3/envs/mlflow-360b24b9ab36dc7c3d5442c51a92dbe97822c3dc/lib/python3.10/site-packages (from matplotlib<=3.7.3,>=3.2->ydata-profiling) (1.4.7)\n",
      "Requirement already satisfied: packaging>=20.0 in /home/krillavilla/anaconda3/envs/mlflow-360b24b9ab36dc7c3d5442c51a92dbe97822c3dc/lib/python3.10/site-packages (from matplotlib<=3.7.3,>=3.2->ydata-profiling) (24.2)\n",
      "Requirement already satisfied: pyparsing>=2.3.1 in /home/krillavilla/anaconda3/envs/mlflow-360b24b9ab36dc7c3d5442c51a92dbe97822c3dc/lib/python3.10/site-packages (from matplotlib<=3.7.3,>=3.2->ydata-profiling) (3.2.1)\n",
      "Requirement already satisfied: python-dateutil>=2.7 in /home/krillavilla/anaconda3/envs/mlflow-360b24b9ab36dc7c3d5442c51a92dbe97822c3dc/lib/python3.10/site-packages (from matplotlib<=3.7.3,>=3.2->ydata-profiling) (2.9.0.post0)\n",
      "Requirement already satisfied: llvmlite<0.42,>=0.41.0dev0 in /home/krillavilla/anaconda3/envs/mlflow-360b24b9ab36dc7c3d5442c51a92dbe97822c3dc/lib/python3.10/site-packages (from numba<0.59.0,>=0.56.0->ydata-profiling) (0.41.1)\n",
      "Requirement already satisfied: pytz>=2020.1 in /home/krillavilla/anaconda3/envs/mlflow-360b24b9ab36dc7c3d5442c51a92dbe97822c3dc/lib/python3.10/site-packages (from pandas!=1.4.0,<2.1,>1.1->ydata-profiling) (2025.1)\n",
      "Requirement already satisfied: tzdata>=2022.1 in /home/krillavilla/anaconda3/envs/mlflow-360b24b9ab36dc7c3d5442c51a92dbe97822c3dc/lib/python3.10/site-packages (from pandas!=1.4.0,<2.1,>1.1->ydata-profiling) (2025.1)\n",
      "Requirement already satisfied: joblib>=0.14.1 in /home/krillavilla/anaconda3/envs/mlflow-360b24b9ab36dc7c3d5442c51a92dbe97822c3dc/lib/python3.10/site-packages (from phik<0.13,>=0.11.1->ydata-profiling) (1.4.2)\n",
      "Requirement already satisfied: annotated-types>=0.6.0 in /home/krillavilla/anaconda3/envs/mlflow-360b24b9ab36dc7c3d5442c51a92dbe97822c3dc/lib/python3.10/site-packages (from pydantic>=2->ydata-profiling) (0.7.0)\n",
      "Requirement already satisfied: pydantic-core==2.27.2 in /home/krillavilla/anaconda3/envs/mlflow-360b24b9ab36dc7c3d5442c51a92dbe97822c3dc/lib/python3.10/site-packages (from pydantic>=2->ydata-profiling) (2.27.2)\n",
      "Requirement already satisfied: typing-extensions>=4.12.2 in /home/krillavilla/anaconda3/envs/mlflow-360b24b9ab36dc7c3d5442c51a92dbe97822c3dc/lib/python3.10/site-packages (from pydantic>=2->ydata-profiling) (4.12.2)\n",
      "Requirement already satisfied: charset_normalizer<4,>=2 in /home/krillavilla/anaconda3/envs/mlflow-360b24b9ab36dc7c3d5442c51a92dbe97822c3dc/lib/python3.10/site-packages (from requests<3,>=2.24.0->ydata-profiling) (3.4.1)\n",
      "Requirement already satisfied: idna<4,>=2.5 in /home/krillavilla/anaconda3/envs/mlflow-360b24b9ab36dc7c3d5442c51a92dbe97822c3dc/lib/python3.10/site-packages (from requests<3,>=2.24.0->ydata-profiling) (3.10)\n",
      "Requirement already satisfied: urllib3<3,>=1.21.1 in /home/krillavilla/anaconda3/envs/mlflow-360b24b9ab36dc7c3d5442c51a92dbe97822c3dc/lib/python3.10/site-packages (from requests<3,>=2.24.0->ydata-profiling) (2.3.0)\n",
      "Requirement already satisfied: certifi>=2017.4.17 in /home/krillavilla/anaconda3/envs/mlflow-360b24b9ab36dc7c3d5442c51a92dbe97822c3dc/lib/python3.10/site-packages (from requests<3,>=2.24.0->ydata-profiling) (2025.1.31)\n",
      "Requirement already satisfied: patsy>=0.5.6 in /home/krillavilla/anaconda3/envs/mlflow-360b24b9ab36dc7c3d5442c51a92dbe97822c3dc/lib/python3.10/site-packages (from statsmodels<1,>=0.13.2->ydata-profiling) (1.0.1)\n",
      "Requirement already satisfied: six>=1.5 in /home/krillavilla/anaconda3/envs/mlflow-360b24b9ab36dc7c3d5442c51a92dbe97822c3dc/lib/python3.10/site-packages (from python-dateutil>=2.7->matplotlib<=3.7.3,>=3.2->ydata-profiling) (1.17.0)\n"
     ]
    }
   ],
   "source": [
    "!pip install ydata-profiling"
   ]
  },
  {
   "cell_type": "code",
   "execution_count": 4,
   "id": "d7365847d8f66e0e",
   "metadata": {},
   "outputs": [
    {
     "data": {
      "application/vnd.jupyter.widget-view+json": {
       "model_id": "3e31ad3cc0d94dd1aa576edf12767120",
       "version_major": 2,
       "version_minor": 0
      },
      "text/plain": [
       "Summarize dataset:   0%|          | 0/5 [00:00<?, ?it/s]"
      ]
     },
     "metadata": {},
     "output_type": "display_data"
    },
    {
     "data": {
      "application/vnd.jupyter.widget-view+json": {
       "model_id": "281cb05152ab40d6961d4afcb045c65f",
       "version_major": 2,
       "version_minor": 0
      },
      "text/plain": [
       "Generate report structure:   0%|          | 0/1 [00:00<?, ?it/s]"
      ]
     },
     "metadata": {},
     "output_type": "display_data"
    },
    {
     "data": {
      "application/vnd.jupyter.widget-view+json": {
       "model_id": "24e17a2a089d47bdb23ea8c022c12031",
       "version_major": 2,
       "version_minor": 0
      },
      "text/plain": [
       "Render widgets:   0%|          | 0/1 [00:00<?, ?it/s]"
      ]
     },
     "metadata": {},
     "output_type": "display_data"
    },
    {
     "name": "stderr",
     "output_type": "stream",
     "text": [
      "IOPub message rate exceeded.\n",
      "The Jupyter server will temporarily stop sending output\n",
      "to the client in order to avoid crashing it.\n",
      "To change this limit, set the config variable\n",
      "`--ServerApp.iopub_msg_rate_limit`.\n",
      "\n",
      "Current values:\n",
      "ServerApp.iopub_msg_rate_limit=1000.0 (msgs/sec)\n",
      "ServerApp.rate_limit_window=3.0 (secs)\n",
      "\n",
      "IOPub message rate exceeded.\n",
      "The Jupyter server will temporarily stop sending output\n",
      "to the client in order to avoid crashing it.\n",
      "To change this limit, set the config variable\n",
      "`--ServerApp.iopub_msg_rate_limit`.\n",
      "\n",
      "Current values:\n",
      "ServerApp.iopub_msg_rate_limit=1000.0 (msgs/sec)\n",
      "ServerApp.rate_limit_window=3.0 (secs)\n",
      "\n",
      "IOPub message rate exceeded.\n",
      "The Jupyter server will temporarily stop sending output\n",
      "to the client in order to avoid crashing it.\n",
      "To change this limit, set the config variable\n",
      "`--ServerApp.iopub_msg_rate_limit`.\n",
      "\n",
      "Current values:\n",
      "ServerApp.iopub_msg_rate_limit=1000.0 (msgs/sec)\n",
      "ServerApp.rate_limit_window=3.0 (secs)\n",
      "\n"
     ]
    },
    {
     "data": {
      "application/vnd.jupyter.widget-view+json": {
       "model_id": "ac8dec615baf4581a8b2937b4cda8b06",
       "version_major": 2,
       "version_minor": 0
      },
      "text/plain": [
       "VBox(children=(Tab(children=(Tab(children=(GridBox(children=(VBox(children=(GridspecLayout(children=(HTML(valu…"
      ]
     },
     "metadata": {},
     "output_type": "display_data"
    }
   ],
   "source": [
    "# Import the correct package name\n",
    "from ydata_profiling import ProfileReport\n",
    "\n",
    "# Create the profile report\n",
    "profile = ProfileReport(df)\n",
    "profile.to_widgets()"
   ]
  },
  {
   "cell_type": "code",
   "execution_count": 4,
   "id": "b5dbc80ef306e39c",
   "metadata": {},
   "outputs": [],
   "source": [
    "# Drop outliers\n",
    "min_price = 10\n",
    "max_price = 350\n",
    "idx = df['price'].between(min_price, max_price)\n",
    "df = df[idx].copy()\n",
    "\n",
    "# Convert last_review to datetime\n",
    "df['last_review'] = pd.to_datetime(df['last_review'])"
   ]
  },
  {
   "cell_type": "code",
   "execution_count": 5,
   "id": "641ef72f-7408-4834-aa55-960a5c1b62b0",
   "metadata": {},
   "outputs": [
    {
     "name": "stdout",
     "output_type": "stream",
     "text": [
      "<class 'pandas.core.frame.DataFrame'>\n",
      "Index: 19001 entries, 0 to 19999\n",
      "Data columns (total 16 columns):\n",
      " #   Column                          Non-Null Count  Dtype         \n",
      "---  ------                          --------------  -----         \n",
      " 0   id                              19001 non-null  int64         \n",
      " 1   name                            18994 non-null  object        \n",
      " 2   host_id                         19001 non-null  int64         \n",
      " 3   host_name                       18993 non-null  object        \n",
      " 4   neighbourhood_group             19001 non-null  object        \n",
      " 5   neighbourhood                   19001 non-null  object        \n",
      " 6   latitude                        19001 non-null  float64       \n",
      " 7   longitude                       19001 non-null  float64       \n",
      " 8   room_type                       19001 non-null  object        \n",
      " 9   price                           19001 non-null  int64         \n",
      " 10  minimum_nights                  19001 non-null  int64         \n",
      " 11  number_of_reviews               19001 non-null  int64         \n",
      " 12  last_review                     15243 non-null  datetime64[ns]\n",
      " 13  reviews_per_month               15243 non-null  float64       \n",
      " 14  calculated_host_listings_count  19001 non-null  int64         \n",
      " 15  availability_365                19001 non-null  int64         \n",
      "dtypes: datetime64[ns](1), float64(3), int64(7), object(5)\n",
      "memory usage: 2.5+ MB\n"
     ]
    },
    {
     "data": {
      "application/vnd.jupyter.widget-view+json": {
       "model_id": "598601b4cdd2450dba355726e8d8df5c",
       "version_major": 2,
       "version_minor": 0
      },
      "text/plain": [
       "VBox(children=(Label(value='0.079 MB of 0.079 MB uploaded (0.012 MB deduped)\\r'), FloatProgress(value=1.0, max…"
      ]
     },
     "metadata": {},
     "output_type": "display_data"
    },
    {
     "data": {
      "text/html": [
       "W&B sync reduced upload amount by 11.5%             "
      ],
      "text/plain": [
       "<IPython.core.display.HTML object>"
      ]
     },
     "metadata": {},
     "output_type": "display_data"
    },
    {
     "data": {
      "text/html": [
       " View run <strong style=\"color:#cdcd00\">balmy-bird-11</strong> at: <a href='https://wandb.ai/krillavilla-arizona-state-university/nyc_airbnb/runs/oookhbll' target=\"_blank\">https://wandb.ai/krillavilla-arizona-state-university/nyc_airbnb/runs/oookhbll</a><br/> View job at <a href='https://wandb.ai/krillavilla-arizona-state-university/nyc_airbnb/jobs/QXJ0aWZhY3RDb2xsZWN0aW9uOjU4ODM4MjA4Nw==/version_details/v1' target=\"_blank\">https://wandb.ai/krillavilla-arizona-state-university/nyc_airbnb/jobs/QXJ0aWZhY3RDb2xsZWN0aW9uOjU4ODM4MjA4Nw==/version_details/v1</a><br/>Synced 7 W&B file(s), 0 media file(s), 4 artifact file(s) and 1 other file(s)"
      ],
      "text/plain": [
       "<IPython.core.display.HTML object>"
      ]
     },
     "metadata": {},
     "output_type": "display_data"
    },
    {
     "data": {
      "text/html": [
       "Find logs at: <code>./wandb/run-20250317_234222-oookhbll/logs</code>"
      ],
      "text/plain": [
       "<IPython.core.display.HTML object>"
      ]
     },
     "metadata": {},
     "output_type": "display_data"
    }
   ],
   "source": [
    "# Option 1: Quick check with df.info()\n",
    "df.info()\n",
    "\n",
    "# Terminate \n",
    "run.finish()"
   ]
  }
 ],
 "metadata": {
  "kernelspec": {
   "display_name": "Python 3 (ipykernel)",
   "language": "python",
   "name": "python3"
  },
  "language_info": {
   "codemirror_mode": {
    "name": "ipython",
    "version": 3
   },
   "file_extension": ".py",
   "mimetype": "text/x-python",
   "name": "python",
   "nbconvert_exporter": "python",
   "pygments_lexer": "ipython3",
   "version": "3.10.0"
  }
 },
 "nbformat": 4,
 "nbformat_minor": 5
}
